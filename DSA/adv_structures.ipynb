{
 "cells": [
  {
   "cell_type": "markdown",
   "metadata": {},
   "source": [
    "# <center>Stack</center>"
   ]
  },
  {
   "cell_type": "markdown",
   "metadata": {},
   "source": [
    "## Push and Pop on stack"
   ]
  },
  {
   "cell_type": "code",
   "execution_count": 3,
   "metadata": {},
   "outputs": [
    {
     "name": "stdout",
     "output_type": "stream",
     "text": [
      "Initial stack:\n",
      "['a', 'b', 'c']\n",
      "Length: 3\n",
      "Peek: c\n",
      "\n",
      "Elements popped from stack:\n",
      "c\n",
      "b\n",
      "a\n",
      "\n",
      "Stack after elements are popped:\n",
      "[]\n"
     ]
    }
   ],
   "source": [
    "def main():\n",
    "\n",
    "    stack = []\n",
    "\n",
    "    # append() function to push\n",
    "    # element in the stack\n",
    "    stack.append('a')\n",
    "    stack.append('b')\n",
    "    stack.append('c')\n",
    "\n",
    "    print('Initial stack:')\n",
    "    print(stack)\n",
    "    print(\"Length:\",len(stack))\n",
    "\n",
    "    print(\"Peek:\",stack[-1]) #Give last element\n",
    "\n",
    "    # pop() function to pop\n",
    "    # element from stack in\n",
    "    # LIFO order\n",
    "    print('\\nElements popped from stack:')\n",
    "    print(stack.pop())\n",
    "    print(stack.pop())\n",
    "    print(stack.pop())\n",
    "\n",
    "    print('\\nStack after elements are popped:')\n",
    "    print(stack)\n",
    "\n",
    "\n",
    "if __name__ == '__main__':\n",
    "    main()"
   ]
  }
 ],
 "metadata": {
  "kernelspec": {
   "display_name": "Python 3",
   "language": "python",
   "name": "python3"
  },
  "language_info": {
   "codemirror_mode": {
    "name": "ipython",
    "version": 3
   },
   "file_extension": ".py",
   "mimetype": "text/x-python",
   "name": "python",
   "nbconvert_exporter": "python",
   "pygments_lexer": "ipython3",
   "version": "3.10.7"
  }
 },
 "nbformat": 4,
 "nbformat_minor": 2
}
