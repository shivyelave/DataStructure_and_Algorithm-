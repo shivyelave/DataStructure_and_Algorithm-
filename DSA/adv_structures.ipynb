{
 "cells": [
  {
   "cell_type": "markdown",
   "metadata": {},
   "source": [
    "# <center>Stack</center>"
   ]
  },
  {
   "cell_type": "markdown",
   "metadata": {},
   "source": [
    "## Push and Pop on stack"
   ]
  },
  {
   "cell_type": "code",
   "execution_count": 3,
   "metadata": {},
   "outputs": [
    {
     "name": "stdout",
     "output_type": "stream",
     "text": [
      "Initial stack:\n",
      "['a', 'b', 'c']\n",
      "Length: 3\n",
      "Peek: c\n",
      "\n",
      "Elements popped from stack:\n",
      "c\n",
      "b\n",
      "a\n",
      "\n",
      "Stack after elements are popped:\n",
      "[]\n"
     ]
    }
   ],
   "source": [
    "def main():\n",
    "\n",
    "    stack = []\n",
    "\n",
    "    # append() function to push\n",
    "    # element in the stack\n",
    "    stack.append('a')\n",
    "    stack.append('b')\n",
    "    stack.append('c')\n",
    "\n",
    "    print('Initial stack:')\n",
    "    print(stack)\n",
    "    print(\"Length:\",len(stack))\n",
    "\n",
    "    print(\"Peek:\",stack[-1]) #Give last element\n",
    "\n",
    "    # pop() function to pop\n",
    "    # element from stack in\n",
    "    # LIFO order\n",
    "    print('\\nElements popped from stack:')\n",
    "    print(stack.pop())\n",
    "    print(stack.pop())\n",
    "    print(stack.pop())\n",
    "\n",
    "    print('\\nStack after elements are popped:')\n",
    "    print(stack)\n",
    "\n",
    "\n",
    "if __name__ == '__main__':\n",
    "    main()"
   ]
  },
  {
   "cell_type": "markdown",
   "metadata": {},
   "source": [
    "## Palindrome Stack\n"
   ]
  },
  {
   "cell_type": "code",
   "execution_count": 28,
   "metadata": {},
   "outputs": [
    {
     "name": "stdout",
     "output_type": "stream",
     "text": [
      "Is the stack palindrome: False\n"
     ]
    }
   ],
   "source": [
    "import copy\n",
    "\n",
    "def is_palindrome(string):\n",
    "    \"\"\"\n",
    "    Checks if the given string is a palindrome.\n",
    "    \n",
    "    A palindrome is a sequence that reads the same backward as forward. \n",
    "    This function checks if the given string follows this property.\n",
    "    \n",
    "    Parameters:\n",
    "    string (str): A string to be checked for the palindrome property.\n",
    "    \n",
    "    Returns:\n",
    "    bool: Returns True if the string is a palindrome, otherwise False.\n",
    "    \"\"\"\n",
    "    \n",
    "    # Create an empty list (acting as a stack) to store characters from the string.\n",
    "    new_stack = []\n",
    "    \n",
    "    # Create an empty string to store the reversed version of the input string.\n",
    "    rev_str = ''\n",
    "    \n",
    "    # Iterate through the original string and push each character onto the new_stack.\n",
    "    for _ in range(len(string)):\n",
    "        new_stack.append(string[_])\n",
    "    \n",
    "    # Pop elements from the new_stack to form the reversed string.\n",
    "    for _ in range(len(string)):\n",
    "        rev_str += new_stack.pop()\n",
    "    \n",
    "    # Compare the original string with the reversed string.\n",
    "    return string == rev_str\n",
    "\n",
    "\n",
    "def main():\n",
    "    # Initialize a string to be checked for the palindrome property.\n",
    "    string = '125721'\n",
    "    \n",
    "    # Check if the string is a palindrome and print the result.\n",
    "    print(\"Is the string a palindrome:\", is_palindrome(string))\n",
    "\n",
    "\n",
    "if __name__ == '__main__':\n",
    "    # Run the main function if the script is executed directly.\n",
    "    main()\n"
   ]
  },
  {
   "cell_type": "markdown",
   "metadata": {},
   "source": [
    "# <center>Queue</center>"
   ]
  },
  {
   "cell_type": "markdown",
   "metadata": {},
   "source": [
    "## Queue Operations"
   ]
  },
  {
   "cell_type": "code",
   "execution_count": 20,
   "metadata": {},
   "outputs": [
    {
     "name": "stdout",
     "output_type": "stream",
     "text": [
      "Queue:  ['A', 'B', 'C']\n",
      "Dequeue:  A\n",
      "Peek:  B\n",
      "Size:  2\n"
     ]
    }
   ],
   "source": [
    "def main():\n",
    "    queue = []\n",
    "\n",
    "    # Enqueue\n",
    "    queue.append('A')\n",
    "    queue.append('B')\n",
    "    queue.append('C')\n",
    "    print(\"Queue: \", queue)\n",
    "\n",
    "    # Dequeue\n",
    "    element = queue.pop(0)\n",
    "    print(\"Dequeue: \", element)\n",
    "\n",
    "    # Peek\n",
    "    frontElement = queue[0]\n",
    "    print(\"Peek: \", frontElement)\n",
    "\n",
    "    # Size\n",
    "    print(\"Size: \", len(queue))\n",
    "if __name__ == '__main__':\n",
    "    main()"
   ]
  },
  {
   "cell_type": "markdown",
   "metadata": {},
   "source": []
  }
 ],
 "metadata": {
  "kernelspec": {
   "display_name": "Python 3",
   "language": "python",
   "name": "python3"
  },
  "language_info": {
   "codemirror_mode": {
    "name": "ipython",
    "version": 3
   },
   "file_extension": ".py",
   "mimetype": "text/x-python",
   "name": "python",
   "nbconvert_exporter": "python",
   "pygments_lexer": "ipython3",
   "version": "3.10.7"
  }
 },
 "nbformat": 4,
 "nbformat_minor": 2
}
