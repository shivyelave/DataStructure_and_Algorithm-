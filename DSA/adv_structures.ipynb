{
 "cells": [
  {
   "cell_type": "markdown",
   "metadata": {},
   "source": [
    "\"\"\"<br><br>\n",
    "@Author: Shivraj Yealve<br>\n",
    "@Date: 14-08-2024<br>\n",
    "@Last modified by: Shivraj Yelave<br>\n",
    "@Last modified at: 16-08-2024<br>\n",
    "@Title: Advance DSA Concepts<br>\n",
    "<br><br>\n",
    "\"\"\""
   ]
  },
  {
   "cell_type": "markdown",
   "metadata": {},
   "source": [
    "# <center>Stack</center>"
   ]
  },
  {
   "cell_type": "markdown",
   "metadata": {},
   "source": [
    "## Push and Pop on stack"
   ]
  },
  {
   "cell_type": "code",
   "execution_count": 3,
   "metadata": {},
   "outputs": [
    {
     "name": "stdout",
     "output_type": "stream",
     "text": [
      "Initial stack:\n",
      "['a', 'b', 'c']\n",
      "Length: 3\n",
      "Peek: c\n",
      "\n",
      "Elements popped from stack:\n",
      "c\n",
      "b\n",
      "a\n",
      "\n",
      "Stack after elements are popped:\n",
      "[]\n"
     ]
    }
   ],
   "source": [
    "def main():\n",
    "\n",
    "    stack = []\n",
    "\n",
    "    # append() function to push\n",
    "    # element in the stack\n",
    "    stack.append('a')\n",
    "    stack.append('b')\n",
    "    stack.append('c')\n",
    "\n",
    "    print('Initial stack:')\n",
    "    print(stack)\n",
    "    print(\"Length:\",len(stack))\n",
    "\n",
    "    print(\"Peek:\",stack[-1]) #Give last element\n",
    "\n",
    "    # pop() function to pop\n",
    "    # element from stack in\n",
    "    # LIFO order\n",
    "    print('\\nElements popped from stack:')\n",
    "    print(stack.pop())\n",
    "    print(stack.pop())\n",
    "    print(stack.pop())\n",
    "\n",
    "    print('\\nStack after elements are popped:')\n",
    "    print(stack)\n",
    "\n",
    "\n",
    "if __name__ == '__main__':\n",
    "    main()"
   ]
  },
  {
   "cell_type": "markdown",
   "metadata": {},
   "source": [
    "## Palindrome Stack\n"
   ]
  },
  {
   "cell_type": "code",
   "execution_count": 28,
   "metadata": {},
   "outputs": [
    {
     "name": "stdout",
     "output_type": "stream",
     "text": [
      "Is the stack palindrome: False\n"
     ]
    }
   ],
   "source": [
    "def is_palindrome(string):\n",
    "    \"\"\"\n",
    "    Checks if the given string is a palindrome.\n",
    "    \n",
    "    A palindrome is a sequence that reads the same backward as forward. \n",
    "    This function checks if the given string follows this property.\n",
    "    \n",
    "    Parameters:\n",
    "    string (str): A string to be checked for the palindrome property.\n",
    "    \n",
    "    Returns:\n",
    "    bool: Returns True if the string is a palindrome, otherwise False.\n",
    "    \"\"\"\n",
    "    \n",
    "    # Create an empty list (acting as a stack) to store characters from the string.\n",
    "    new_stack = []\n",
    "    \n",
    "    # Create an empty string to store the reversed version of the input string.\n",
    "    rev_str = ''\n",
    "    \n",
    "    # Iterate through the original string and push each character onto the new_stack.\n",
    "    for _ in range(len(string)):\n",
    "        new_stack.append(string[_])\n",
    "    \n",
    "    # Pop elements from the new_stack to form the reversed string.\n",
    "    for _ in range(len(string)):\n",
    "        rev_str += new_stack.pop()\n",
    "    \n",
    "    # Compare the original string with the reversed string.\n",
    "    return string == rev_str\n",
    "\n",
    "\n",
    "def main():\n",
    "    # Initialize a string to be checked for the palindrome property.\n",
    "    string = '125721'\n",
    "    \n",
    "    # Check if the string is a palindrome and print the result.\n",
    "    print(\"Is the string a palindrome:\", is_palindrome(string))\n",
    "\n",
    "\n",
    "if __name__ == '__main__':\n",
    "    # Run the main function if the script is executed directly.\n",
    "    main()\n"
   ]
  },
  {
   "cell_type": "markdown",
   "metadata": {},
   "source": [
    "# <center>Queue</center>"
   ]
  },
  {
   "cell_type": "markdown",
   "metadata": {},
   "source": [
    "## Queue Operations"
   ]
  },
  {
   "cell_type": "code",
   "execution_count": 20,
   "metadata": {},
   "outputs": [
    {
     "name": "stdout",
     "output_type": "stream",
     "text": [
      "Queue:  ['A', 'B', 'C']\n",
      "Dequeue:  A\n",
      "Peek:  B\n",
      "Size:  2\n"
     ]
    }
   ],
   "source": [
    "def main():\n",
    "    queue = []\n",
    "\n",
    "    # Enqueue\n",
    "    queue.append('A')\n",
    "    queue.append('B')\n",
    "    queue.append('C')\n",
    "    print(\"Queue: \", queue)\n",
    "\n",
    "    # Dequeue\n",
    "    element = queue.pop(0)\n",
    "    print(\"Dequeue: \", element)\n",
    "\n",
    "    # Peek\n",
    "    frontElement = queue[0]\n",
    "    print(\"Peek: \", frontElement)\n",
    "\n",
    "    # Size\n",
    "    print(\"Size: \", len(queue))\n",
    "if __name__ == '__main__':\n",
    "    main()"
   ]
  },
  {
   "cell_type": "markdown",
   "metadata": {},
   "source": [
    "## Palindrome using queue"
   ]
  },
  {
   "cell_type": "code",
   "execution_count": 32,
   "metadata": {},
   "outputs": [
    {
     "name": "stdout",
     "output_type": "stream",
     "text": [
      "Is the string a palindrome: False\n"
     ]
    }
   ],
   "source": [
    "from collections import deque\n",
    "\n",
    "def is_palindrome(string):\n",
    "    \"\"\"\n",
    "    Checks if the given string is a palindrome using a queue.\n",
    "    \n",
    "    A palindrome is a sequence that reads the same backward as forward. \n",
    "    This function checks if the given string follows this property using a queue.\n",
    "    \n",
    "    Parameters:\n",
    "    string (str): A string to be checked for the palindrome property.\n",
    "    \n",
    "    Returns:\n",
    "    bool: Returns True if the string is a palindrome, otherwise False.\n",
    "    \"\"\"\n",
    "    \n",
    "    # Create a queue (deque) to store characters from the string.\n",
    "    queue = deque(string)\n",
    "    \n",
    "    # Compare characters from the front and back of the queue.\n",
    "    while len(queue) > 1:\n",
    "        if queue.popleft() != queue.pop():\n",
    "            return False\n",
    "    \n",
    "    # If all characters matched, the string is a palindrome.\n",
    "    return True\n",
    "\n",
    "\n",
    "def main():\n",
    "    # Initialize a string to be checked for the palindrome property.\n",
    "    string = '125721'\n",
    "    \n",
    "    # Check if the string is a palindrome and print the result.\n",
    "    print(\"Is the string a palindrome:\", is_palindrome(string))\n",
    "\n",
    "\n",
    "if __name__ == '__main__':\n",
    "    # Run the main function if the script is executed directly.\n",
    "    main()\n"
   ]
  },
  {
   "cell_type": "markdown",
   "metadata": {},
   "source": [
    "# <center>Trees</center>"
   ]
  },
  {
   "cell_type": "markdown",
   "metadata": {},
   "source": [
    "## Theory:\n",
    "A tree is a hierarchical data structure consisting of nodes connected by edges. It is commonly used in various applications, such as representing hierarchical data (e.g., organizational charts, file systems), optimizing search operations (e.g., binary search trees), and more.<br><br>\n",
    "\n",
    "### Key Terms:<br>\n",
    "<b>Node:</b> Each element in a tree is called a node. It can store a value or data, and it may also have references to other nodes (its children).<br>\n",
    "<b>Root:</b> The topmost node in a tree is called the root. There is only one root in a tree.<br>\n",
    "<b>Parent:</b> A node that has one or more children is called the parent of those children.<br>\n",
    "<b>Child:</b> A node that is a descendant of another node is called a child.<br>\n",
    "<b>Leaf:</b> A node with no children is called a leaf node.<br>\n",
    "<b>Edge:</b> The connection between two nodes is called an edge.<br>\n",
    "<b>Depth:</b> The depth of a node is the number of edges from the root to that node.<br>\n",
    "<b>Height:</b> The height of a node is the number of edges on the longest path from that node to a leaf. The height of a tree is the height of the root node.<br><br>\n",
    "### Types of Trees:<br>\n",
    "<b>Binary Tree:</b>\n",
    "A tree where each node has at most two children (left and right).<br><br>\n",
    "<b>Binary Search Tree (BST)</b>:\n",
    "A binary tree where the left child contains values less than the parent node, and the right child contains values greater than the parent node. This structure allows for efficient searching, insertion, and deletion operations.<br><br>\n",
    "<b>Balanced Trees (e.g., AVL, Red-Black Tree):</b>\n",
    "These are binary search trees that automatically balance themselves during insertions and deletions to maintain efficient operations.<br><br>\n",
    "<b>N-ary Tree:</b>\n",
    "A tree where each node can have at most N children.<br><br>\n",
    "<b>Trie (Prefix Tree):</b>\n",
    "A tree-like data structure that is used to store strings. Each node represents a character of the string, and paths down the tree represent words.<br><br>\n",
    "<b>Heap:</b>\n",
    "A special kind of binary tree where the parent node is always greater (in max heap) or smaller (in min heap) than its children."
   ]
  },
  {
   "cell_type": "markdown",
   "metadata": {},
   "source": [
    "## Tree Basic Operations:"
   ]
  },
  {
   "cell_type": "code",
   "execution_count": 2,
   "metadata": {},
   "outputs": [
    {
     "name": "stdout",
     "output_type": "stream",
     "text": [
      "Inorder traversal of the BST: \n",
      "20 30 40 50 60 70 80 \n",
      "Preorder traversal of the BST: \n",
      "50 20 30 40 60 70 80 \n",
      "Postorder traversal of the BST: \n",
      "20 30 40 60 70 80 50 \n",
      "\n",
      "Delete 20\n",
      "Inorder traversal after deletion: \n",
      "30 40 50 60 70 80 \n",
      "\n",
      "Delete 30\n",
      "Inorder traversal after deletion: \n",
      "40 50 60 70 80 \n",
      "\n",
      "Delete 50\n",
      "Inorder traversal after deletion: \n",
      "40 60 70 80 "
     ]
    }
   ],
   "source": [
    "# Class to represent a node in the binary search tree (BST)\n",
    "class Node:\n",
    "    def __init__(self, key):\n",
    "        # Initialize the node with a key, and set left and right children as None\n",
    "        self.left = None\n",
    "        self.right = None\n",
    "        self.val = key\n",
    "\n",
    "# Function for inorder tree traversal\n",
    "def inorder(root):\n",
    "    if root:  # If the current node is not None\n",
    "        # Recursively traverse the left subtree\n",
    "        inorder(root.left)\n",
    "        # Print the value of the current node\n",
    "        print(root.val, end=\" \")\n",
    "        # Recursively traverse the right subtree\n",
    "        inorder(root.right)\n",
    "def preorder(root):\n",
    "    if root:  # If the current node is not None\n",
    "        # Print the value of the current node\n",
    "        print(root.val, end=\" \")\n",
    "        # Recursively traverse the left subtree\n",
    "        inorder(root.left)\n",
    "        # Recursively traverse the right subtree\n",
    "        inorder(root.right)\n",
    "def postorder(root):\n",
    "    if root:  # If the current node is not None\n",
    "        # Recursively traverse the left subtree\n",
    "        inorder(root.left)\n",
    "        # Recursively traverse the right subtree\n",
    "        inorder(root.right)        \n",
    "        # Print the value of the current node\n",
    "        print(root.val, end=\" \")\n",
    "# Function to insert a new node with a given key in the BST\n",
    "def insert(root, key):\n",
    "    # If the root is None, create a new node and return it\n",
    "    if root is None:\n",
    "        return Node(key)\n",
    "    \n",
    "    # Otherwise, recur down the tree\n",
    "    if key < root.val:\n",
    "        # If the key is less than the root's value, insert in the left subtree\n",
    "        root.left = insert(root.left, key)\n",
    "    else:\n",
    "        # If the key is greater than the root's value, insert in the right subtree\n",
    "        root.right = insert(root.right, key)\n",
    "    \n",
    "    # Return the (unchanged) root node\n",
    "    return root\n",
    "\n",
    "# Function to find the node with the minimum value in a given BST\n",
    "def minValueNode(node):\n",
    "    current = node\n",
    "    # Loop to find the leftmost leaf (minimum value)\n",
    "    while current.left is not None:\n",
    "        current = current.left\n",
    "    return current\n",
    "\n",
    "# Function to delete a node with a given key from the BST\n",
    "def deleteNode(root, key):\n",
    "    # Base case: if the tree is empty, return the root\n",
    "    if root is None:\n",
    "        return root\n",
    "    \n",
    "    # If the key to be deleted is smaller than the root's key, go to the left subtree\n",
    "    if key < root.val:\n",
    "        root.left = deleteNode(root.left, key)\n",
    "    \n",
    "    # If the key to be deleted is greater than the root's key, go to the right subtree\n",
    "    elif key > root.val:\n",
    "        root.right = deleteNode(root.right, key)\n",
    "    \n",
    "    # If the key is the same as the root's key, then this is the node to be deleted\n",
    "    else:\n",
    "        # Case 1: Node with only one child or no child\n",
    "        if root.left is None:  # If left child is None, return right child\n",
    "            temp = root.right\n",
    "            root = None  # Delete the node\n",
    "            return temp\n",
    "        \n",
    "        elif root.right is None:  # If right child is None, return left child\n",
    "            temp = root.left\n",
    "            root = None  # Delete the node\n",
    "            return temp\n",
    "        \n",
    "        # Case 2: Node with two children, get the inorder successor (smallest in the right subtree)\n",
    "        temp = minValueNode(root.right)\n",
    "        # Replace the root's key with the inorder successor's key\n",
    "        root.val = temp.val\n",
    "        # Delete the inorder successor\n",
    "        root.right = deleteNode(root.right, temp.val)\n",
    "    \n",
    "    return root\n",
    "\n",
    "\n",
    "def main():\n",
    "    # Create an empty tree\n",
    "    root = None\n",
    "    # Insert nodes into the BST\n",
    "    root = insert(root, 50)\n",
    "    root = insert(root, 30)\n",
    "    root = insert(root, 20)\n",
    "    root = insert(root, 40)\n",
    "    root = insert(root, 70)\n",
    "    root = insert(root, 60)\n",
    "    root = insert(root, 80)\n",
    "    \n",
    "    print(\"Inorder traversal of the BST: \")\n",
    "    inorder(root)  # Output: 20 30 40 50 60 70 80\n",
    "    print(\"\\nPreorder traversal of the BST: \")\n",
    "    preorder(root)  # Output: 50 20 30 40 60 70 80 \n",
    "    print(\"\\nPostorder traversal of the BST: \")\n",
    "    postorder(root)  # 20 30 40 60 70 80 50 \n",
    "        \n",
    "    # Deleting nodes from the BST\n",
    "    print(\"\\n\\nDelete 20\")\n",
    "    root = deleteNode(root, 20)\n",
    "    print(\"Inorder traversal after deletion: \")\n",
    "    inorder(root)  # Output: 30 40 50 60 70 80\n",
    "    \n",
    "    print(\"\\n\\nDelete 30\")\n",
    "    root = deleteNode(root, 30)\n",
    "    print(\"Inorder traversal after deletion: \")\n",
    "    inorder(root)  # Output: 40 50 60 70 80\n",
    "    \n",
    "    print(\"\\n\\nDelete 50\")\n",
    "    root = deleteNode(root, 50)\n",
    "    print(\"Inorder traversal after deletion: \")\n",
    "    inorder(root)  # Output: 40 60 70 80\n",
    "\n",
    "# Driver code to test the BST operations\n",
    "if __name__ == \"__main__\":\n",
    "    main()"
   ]
  }
 ],
 "metadata": {
  "kernelspec": {
   "display_name": "Python 3",
   "language": "python",
   "name": "python3"
  },
  "language_info": {
   "codemirror_mode": {
    "name": "ipython",
    "version": 3
   },
   "file_extension": ".py",
   "mimetype": "text/x-python",
   "name": "python",
   "nbconvert_exporter": "python",
   "pygments_lexer": "ipython3",
   "version": "3.10.7"
  }
 },
 "nbformat": 4,
 "nbformat_minor": 2
}
