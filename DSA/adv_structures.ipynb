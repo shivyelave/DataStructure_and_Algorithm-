{
 "cells": [
  {
   "cell_type": "markdown",
   "metadata": {},
   "source": [
    "# <center>Stack</center>"
   ]
  },
  {
   "cell_type": "markdown",
   "metadata": {},
   "source": [
    "## Push and Pop on stack"
   ]
  },
  {
   "cell_type": "code",
   "execution_count": 3,
   "metadata": {},
   "outputs": [
    {
     "name": "stdout",
     "output_type": "stream",
     "text": [
      "Initial stack:\n",
      "['a', 'b', 'c']\n",
      "Length: 3\n",
      "Peek: c\n",
      "\n",
      "Elements popped from stack:\n",
      "c\n",
      "b\n",
      "a\n",
      "\n",
      "Stack after elements are popped:\n",
      "[]\n"
     ]
    }
   ],
   "source": [
    "def main():\n",
    "\n",
    "    stack = []\n",
    "\n",
    "    # append() function to push\n",
    "    # element in the stack\n",
    "    stack.append('a')\n",
    "    stack.append('b')\n",
    "    stack.append('c')\n",
    "\n",
    "    print('Initial stack:')\n",
    "    print(stack)\n",
    "    print(\"Length:\",len(stack))\n",
    "\n",
    "    print(\"Peek:\",stack[-1]) #Give last element\n",
    "\n",
    "    # pop() function to pop\n",
    "    # element from stack in\n",
    "    # LIFO order\n",
    "    print('\\nElements popped from stack:')\n",
    "    print(stack.pop())\n",
    "    print(stack.pop())\n",
    "    print(stack.pop())\n",
    "\n",
    "    print('\\nStack after elements are popped:')\n",
    "    print(stack)\n",
    "\n",
    "\n",
    "if __name__ == '__main__':\n",
    "    main()"
   ]
  },
  {
   "cell_type": "markdown",
   "metadata": {},
   "source": [
    "## Palindrome Stack\n"
   ]
  },
  {
   "cell_type": "code",
   "execution_count": 18,
   "metadata": {},
   "outputs": [
    {
     "name": "stdout",
     "output_type": "stream",
     "text": [
      "Is the stack palindrome: True\n"
     ]
    }
   ],
   "source": [
    "def is_palindrome(stack):\n",
    "    \"\"\"\n",
    "    Checks if the given stack (list) is a palindrome.\n",
    "    \n",
    "    A palindrome is a sequence that reads the same backward as forward. \n",
    "    This function checks if the given stack follows this property.\n",
    "    \n",
    "    Parameters:\n",
    "    stack (list): A list of elements (stack) to be checked for the palindrome property.\n",
    "    \n",
    "    Returns:\n",
    "    bool: Returns True if the stack is a palindrome, otherwise False.\n",
    "    \"\"\"\n",
    "    \n",
    "    # Create a new list (stack) to store elements from the original stack.\n",
    "    new_stack = []\n",
    "    \n",
    "    # Iterate through half of the stack (integer division by 2).\n",
    "    for _ in range(len(stack) // 2):\n",
    "        # Append the last element from the original stack to the new stack.\n",
    "        new_stack.append(stack[-1])\n",
    "        # Remove the last element from the original stack.\n",
    "        stack.pop()\n",
    "    \n",
    "    # Compare the original stack (excluding the middle element if odd-length) with the new stack.\n",
    "    return stack[:-1] == new_stack\n",
    "\n",
    "\n",
    "def main():\n",
    "    # Initialize a stack (list) with elements.\n",
    "    stack = [1, 2, 3, 4, 5, 4, 3, 2, 1]\n",
    "    \n",
    "    # Check if the stack is a palindrome and print the result.\n",
    "    print(\"Is the stack palindrome:\", is_palindrome(stack))\n",
    "    \n",
    "\n",
    "if __name__ == '__main__':\n",
    "    # Run the main function if the script is executed directly.\n",
    "    main()\n"
   ]
  }
 ],
 "metadata": {
  "kernelspec": {
   "display_name": "Python 3",
   "language": "python",
   "name": "python3"
  },
  "language_info": {
   "codemirror_mode": {
    "name": "ipython",
    "version": 3
   },
   "file_extension": ".py",
   "mimetype": "text/x-python",
   "name": "python",
   "nbconvert_exporter": "python",
   "pygments_lexer": "ipython3",
   "version": "3.10.7"
  }
 },
 "nbformat": 4,
 "nbformat_minor": 2
}
