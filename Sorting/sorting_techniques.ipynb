{
 "cells": [
  {
   "cell_type": "markdown",
   "metadata": {},
   "source": [
    "# <center> Sorting Techniques\n"
   ]
  },
  {
   "cell_type": "markdown",
   "metadata": {},
   "source": [
    "# Bubble Sort"
   ]
  },
  {
   "cell_type": "code",
   "execution_count": 1,
   "metadata": {},
   "outputs": [
    {
     "name": "stdout",
     "output_type": "stream",
     "text": [
      "Sorted array: [1, 2, 3, 4, 5, 6]\n"
     ]
    }
   ],
   "source": [
    "def bubble_sort(array):\n",
    "    \"\"\"\n",
    "    Sorts the given array using the bubble sort algorithm.\n",
    "    \n",
    "    Bubble sort is a simple sorting algorithm that repeatedly steps through the list,\n",
    "    compares adjacent elements, and swaps them if they are in the wrong order. The\n",
    "    pass through the list is repeated until the list is sorted.\n",
    "    \n",
    "    Parameters:\n",
    "    array (list): A list of elements (integers) to be sorted.\n",
    "    \n",
    "    Returns:\n",
    "    list: The sorted list in ascending order.\n",
    "    \"\"\"\n",
    "    \n",
    "    n = len(array)  # Get the length of the array\n",
    "    \n",
    "    # Loop through the array n-1 times\n",
    "    for i in range(n-1):\n",
    "        # Inner loop for comparing adjacent elements\n",
    "        for j in range(n-i-1):\n",
    "            # If the current element is greater than the next element, swap them\n",
    "            if array[j] > array[j+1]:\n",
    "                array[j], array[j+1] = array[j+1], array[j]\n",
    "    \n",
    "    return array  # Return the sorted array\n",
    "\n",
    "\n",
    "def main():\n",
    "    # Initialize an unsorted array\n",
    "    arr = [3, 5, 2, 4, 6, 1]\n",
    "    \n",
    "    # Print the sorted array\n",
    "    print(f\"Sorted array: {bubble_sort(arr)}\")\n",
    "\n",
    "\n",
    "if __name__ == '__main__':\n",
    "    # Run the main function if the script is executed directly.\n",
    "    main()\n"
   ]
  }
 ],
 "metadata": {
  "kernelspec": {
   "display_name": "Python 3",
   "language": "python",
   "name": "python3"
  },
  "language_info": {
   "codemirror_mode": {
    "name": "ipython",
    "version": 3
   },
   "file_extension": ".py",
   "mimetype": "text/x-python",
   "name": "python",
   "nbconvert_exporter": "python",
   "pygments_lexer": "ipython3",
   "version": "3.10.7"
  }
 },
 "nbformat": 4,
 "nbformat_minor": 2
}
