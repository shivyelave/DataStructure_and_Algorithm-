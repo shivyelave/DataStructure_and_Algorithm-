{
 "cells": [
  {
   "cell_type": "markdown",
   "metadata": {},
   "source": [
    "# <center> Sorting Techniques\n"
   ]
  },
  {
   "cell_type": "code",
   "execution_count": 8,
   "metadata": {},
   "outputs": [],
   "source": [
    "import sys\n",
    "import os\n",
    "\n",
    "# Add the path to the plotly directory\n",
    "sys.path.append(os.path.abspath('C:/Users/Admin/Documents/Python Basics/Python-Libraries/Plotly'))\n",
    "\n",
    "# Import the logger function from the logger module\n",
    "from py_logging import get_info_logger  # Replace `logger_function` with the actual function name\n"
   ]
  },
  {
   "cell_type": "markdown",
   "metadata": {},
   "source": [
    "# Bubble Sort"
   ]
  },
  {
   "cell_type": "code",
   "execution_count": 9,
   "metadata": {},
   "outputs": [],
   "source": [
    "def bubble_sort(array):\n",
    "    \"\"\"\n",
    "    Sorts the given array using the bubble sort algorithm.\n",
    "    \n",
    "    Bubble sort is a simple sorting algorithm that repeatedly steps through the list,\n",
    "    compares adjacent elements, and swaps them if they are in the wrong order. The\n",
    "    pass through the list is repeated until the list is sorted.\n",
    "    \n",
    "    Parameters:\n",
    "    array (list): A list of elements (integers) to be sorted.\n",
    "    \n",
    "    Returns:\n",
    "    list: The sorted list in ascending order.\n",
    "    \"\"\"\n",
    "    \n",
    "    n = len(array)  # Get the length of the array\n",
    "    \n",
    "    # Loop through the array n-1 times\n",
    "    for i in range(n-1):\n",
    "        # Inner loop for comparing adjacent elements\n",
    "        for j in range(n-i-1):\n",
    "            # If the current element is greater than the next element, swap them\n",
    "            if array[j] > array[j+1]:\n",
    "                array[j], array[j+1] = array[j+1], array[j]\n",
    "    \n",
    "    return array  # Return the sorted array\n",
    "\n",
    "\n",
    "def main():\n",
    "    # Initialize an unsorted array\n",
    "    arr = [3, 5, 2, 4, 6, 1]\n",
    "    \n",
    "    logger_info = get_info_logger(__name__)\n",
    "    logger_info.info(f\"Sorted array: {bubble_sort(arr)}\")\n",
    "\n",
    "if __name__ == '__main__':\n",
    "    # Run the main function if the script is executed directly.\n",
    "    main()\n"
   ]
  },
  {
   "cell_type": "markdown",
   "metadata": {},
   "source": [
    "# Selection Sort"
   ]
  },
  {
   "cell_type": "code",
   "execution_count": 10,
   "metadata": {},
   "outputs": [],
   "source": [
    "def selection_sort(array):\n",
    "    \"\"\"\n",
    "    Sorts the given array using the selection sort algorithm.\n",
    "    \n",
    "    Selection sort is a simple sorting algorithm that repeatedly selects the smallest\n",
    "    (or largest) element from the unsorted portion of the list and moves it to the\n",
    "    beginning (or end) of the sorted portion.\n",
    "    \n",
    "    Parameters:\n",
    "    array (list): A list of elements (integers) to be sorted.\n",
    "    \n",
    "    Returns:\n",
    "    list: The sorted list in ascending order.\n",
    "    \"\"\"\n",
    "    \n",
    "    n = len(array)  # Get the length of the array\n",
    "    \n",
    "    # Traverse through all array elements\n",
    "    for i in range(n):\n",
    "        # Find the minimum element in the remaining unsorted portion\n",
    "        min_index = i\n",
    "        for j in range(i + 1, n):\n",
    "            if array[j] < array[min_index]:\n",
    "                min_index = j\n",
    "        \n",
    "        # Swap the found minimum element with the first unsorted element\n",
    "        array[i], array[min_index] = array[min_index], array[i]\n",
    "    \n",
    "    return array  # Return the sorted array\n",
    "\n",
    "\n",
    "def main():\n",
    "    # Initialize an unsorted array\n",
    "    arr = [64, 25, 12, 22, 11]\n",
    "    \n",
    "    # log the sorted array\n",
    "    logger_info = get_info_logger(__name__)\n",
    "    logger_info.info(f\"Sorted array: {selection_sort(arr)}\")\n",
    "\n",
    "if __name__ == '__main__':\n",
    "    # Run the main function if the script is executed directly.\n",
    "    main()\n"
   ]
  }
 ],
 "metadata": {
  "kernelspec": {
   "display_name": "Python 3",
   "language": "python",
   "name": "python3"
  },
  "language_info": {
   "codemirror_mode": {
    "name": "ipython",
    "version": 3
   },
   "file_extension": ".py",
   "mimetype": "text/x-python",
   "name": "python",
   "nbconvert_exporter": "python",
   "pygments_lexer": "ipython3",
   "version": "3.10.7"
  }
 },
 "nbformat": 4,
 "nbformat_minor": 2
}
