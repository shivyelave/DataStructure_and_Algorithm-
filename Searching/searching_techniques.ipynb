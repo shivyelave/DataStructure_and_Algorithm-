{
 "cells": [
  {
   "cell_type": "markdown",
   "metadata": {},
   "source": [
    "# <center>Searching Technique\n"
   ]
  },
  {
   "cell_type": "code",
   "execution_count": 1,
   "metadata": {},
   "outputs": [],
   "source": [
    "# Set logger\n",
    "import sys\n",
    "import os\n",
    "\n",
    "# Add the path to the plotly directory\n",
    "sys.path.append(os.path.abspath('C:/Users/Admin/Documents/Python Basics/Python-Libraries/Plotly'))\n",
    "\n",
    "# Import the logger function from the logger module\n",
    "from py_logging import get_info_logger "
   ]
  },
  {
   "cell_type": "markdown",
   "metadata": {},
   "source": [
    "## Binary Search"
   ]
  },
  {
   "cell_type": "code",
   "execution_count": 3,
   "metadata": {},
   "outputs": [],
   "source": [
    "def binary_search(array, target):\n",
    "    \"\"\"\n",
    "    Performs binary search on a sorted array to find the target element.\n",
    "    \n",
    "    Parameters:\n",
    "    array (list): A sorted list of elements to search through.\n",
    "    target (int/float): The element to search for in the array.\n",
    "    \n",
    "    Returns:\n",
    "    int: The index of the target element in the array, or -1 if the target is not found.\n",
    "    \"\"\"\n",
    "    \n",
    "    left, right = 0, len(array) - 1\n",
    "    \n",
    "    while left <= right:\n",
    "        mid = (left + right) // 2\n",
    "        \n",
    "        # Check if target is present at mid\n",
    "        if array[mid] == target:\n",
    "            return mid\n",
    "        # If target is greater, ignore the left half\n",
    "        elif array[mid] < target:\n",
    "            left = mid + 1\n",
    "        # If target is smaller, ignore the right half\n",
    "        else:\n",
    "            right = mid - 1\n",
    "    \n",
    "    # If the target is not present in the array\n",
    "    return -1\n",
    "\n",
    "\n",
    "def main():\n",
    "    # Initialize a sorted array\n",
    "    arr = [2, 3, 4, 10, 40]\n",
    "    target = 10\n",
    "    \n",
    "    # Perform binary search and print the result\n",
    "    result = binary_search(arr, target)\n",
    "    \n",
    "    if result != -1:\n",
    "        logger_info = get_info_logger(__name__)\n",
    "        logger_info.info(f\"Element found at index {result} using Binary Search\")\n",
    "        \n",
    "    else:\n",
    "        logger_info = get_info_logger(__name__)\n",
    "        logger_info.info(\"Element not found\")\n",
    "\n",
    "if __name__ == '__main__':\n",
    "    # Run the main function if the script is executed directly.\n",
    "    main()\n"
   ]
  }
 ],
 "metadata": {
  "kernelspec": {
   "display_name": "Python 3",
   "language": "python",
   "name": "python3"
  },
  "language_info": {
   "codemirror_mode": {
    "name": "ipython",
    "version": 3
   },
   "file_extension": ".py",
   "mimetype": "text/x-python",
   "name": "python",
   "nbconvert_exporter": "python",
   "pygments_lexer": "ipython3",
   "version": "3.10.7"
  }
 },
 "nbformat": 4,
 "nbformat_minor": 2
}
